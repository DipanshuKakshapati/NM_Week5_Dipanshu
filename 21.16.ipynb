{
 "cells": [
  {
   "cell_type": "code",
   "execution_count": 5,
   "id": "34712aba",
   "metadata": {},
   "outputs": [
    {
     "data": {
      "text/plain": [
       "(8*y**3 - 12*y**2 + 64/3, 64/3)"
      ]
     },
     "execution_count": 5,
     "metadata": {},
     "output_type": "execute_result"
    }
   ],
   "source": [
    "from sympy import symbols, integrate\n",
    "\n",
    "# Define the symbols\n",
    "x, y = symbols('x y')\n",
    "\n",
    "# Define the function to integrate\n",
    "f = x**2 - 3*y**2 + x*y**3\n",
    "\n",
    "# Perform the inner integral over x from 0 to 4\n",
    "inner_integral = integrate(f, (x, 0, 4))\n",
    "\n",
    "# Now perform the outer integral over y from -2 to 2\n",
    "outer_integral = integrate(inner_integral, (y, -2, 2))\n",
    "\n",
    "inner_integral, outer_integral"
   ]
  },
  {
   "cell_type": "markdown",
   "id": "47d24c4a",
   "metadata": {},
   "source": [
    "### Trapezoidal Rule"
   ]
  },
  {
   "cell_type": "code",
   "execution_count": 9,
   "id": "3664ca3f",
   "metadata": {},
   "outputs": [
    {
     "data": {
      "text/plain": [
       "([-12, -12, -28, 36], [-24, 8, 0, 16], [4], 0)"
      ]
     },
     "execution_count": 9,
     "metadata": {},
     "output_type": "execute_result"
    }
   ],
   "source": [
    "# Define the function to integrate\n",
    "f = x**2 - 3*y**2 + x*y**3\n",
    "\n",
    "# Calculate delta x and delta y\n",
    "delta_x = (2 - (-2)) / 2\n",
    "delta_y = (4 - 0) / 2\n",
    "\n",
    "# Evaluate the function at the corners\n",
    "f_corner_1 = f.subs({x: 0, y: -2})\n",
    "f_corner_2 = f.subs({x: 0, y: 2})\n",
    "f_corner_3 = f.subs({x: 4, y: -2})\n",
    "f_corner_4 = f.subs({x: 4, y: 2})\n",
    "\n",
    "# Evaluate the function at the midpoints of the edges\n",
    "f_edge_1 = f.subs({x: 2, y: -2})\n",
    "f_edge_2 = f.subs({x: 2, y: 2})\n",
    "f_edge_3 = f.subs({x: 0, y: 0})\n",
    "f_edge_4 = f.subs({x: 4, y: 0})\n",
    "\n",
    "# Evaluate the function at the interior points\n",
    "f_inner_1 = f.subs({x: 2, y: 0})\n",
    "\n",
    "# Calculate the trapezoidal sum\n",
    "trapezoidal_sum = (delta_x * delta_y / 4) * (\n",
    "    f_corner_1 + f_corner_2 + f_corner_3 + f_corner_4 +\n",
    "    2 * (f_edge_1 + f_edge_2 + f_edge_3 + f_edge_4) +\n",
    "    4 * f_inner_1\n",
    ")\n",
    "\n",
    "trapezoidal_sum.evalf()\n",
    "\n",
    "# Recalculate the values at corners, edges, and interior point for trapezoidal rule\n",
    "f_corner_1 = f.subs({x: 0, y: -2})\n",
    "f_corner_2 = f.subs({x: 0, y: 2})\n",
    "f_corner_3 = f.subs({x: 4, y: -2})\n",
    "f_corner_4 = f.subs({x: 4, y: 2})\n",
    "\n",
    "# Recalculate the values at the midpoints of the edges\n",
    "f_edge_1 = f.subs({x: 2, y: -2})\n",
    "f_edge_2 = f.subs({x: 2, y: 2})\n",
    "f_edge_3 = f.subs({x: 0, y: 0})\n",
    "f_edge_4 = f.subs({x: 4, y: 0})\n",
    "\n",
    "# Recalculate the value at the interior point\n",
    "f_inner_1 = f.subs({x: 2, y: 0})\n",
    "\n",
    "# Values for corners, edges, and interior point\n",
    "corner_values = [f_corner_1, f_corner_2, f_corner_3, f_corner_4]\n",
    "edge_values = [f_edge_1, f_edge_2, f_edge_3, f_edge_4]\n",
    "interior_values = [f_inner_1]\n",
    "\n",
    "# Calculate the trapezoidal sum using the correct formula\n",
    "trapezoidal_sum_corrected = (delta_x * delta_y / 4) * (\n",
    "    sum(corner_values) +\n",
    "    2 * sum(edge_values) +\n",
    "    4 * sum(interior_values)\n",
    ")\n",
    "\n",
    "corner_values, edge_values, interior_values, trapezoidal_sum_corrected.evalf()"
   ]
  },
  {
   "cell_type": "markdown",
   "id": "e9560de4",
   "metadata": {},
   "source": [
    "The trapezoidal sum using these values is still calculated to be 0. This result is intriguing because, as mentioned earlier, the function and the limits of integration do not suggest symmetry that would cause the integral to cancel out."
   ]
  },
  {
   "cell_type": "markdown",
   "id": "5632dfb9",
   "metadata": {},
   "source": [
    "### Simpsons 1/3 Rule"
   ]
  },
  {
   "cell_type": "code",
   "execution_count": 7,
   "id": "3889e65b",
   "metadata": {},
   "outputs": [
    {
     "data": {
      "text/latex": [
       "$\\displaystyle 10.6666666666667$"
      ],
      "text/plain": [
       "10.6666666666667"
      ]
     },
     "execution_count": 7,
     "metadata": {},
     "output_type": "execute_result"
    }
   ],
   "source": [
    "# Calculate delta x and delta y for Simpson's rule\n",
    "delta_x_simpson = (2 - (-2)) / 2\n",
    "delta_y_simpson = (4 - 0) / 2\n",
    "\n",
    "# Evaluate the function at the corners for Simpson's rule\n",
    "f_corner_s1 = f.subs({x: 0, y: -2})\n",
    "f_corner_s2 = f.subs({x: 0, y: 2})\n",
    "f_corner_s3 = f.subs({x: 4, y: -2})\n",
    "f_corner_s4 = f.subs({x: 4, y: 2})\n",
    "\n",
    "# Evaluate the function at the midpoints of the edges for Simpson's rule\n",
    "f_edge_s1 = f.subs({x: 2, y: -2})\n",
    "f_edge_s2 = f.subs({x: 2, y: 2})\n",
    "f_edge_s3 = f.subs({x: 0, y: 1})  # Note: y midpoint is (0+4)/2 = 2\n",
    "f_edge_s4 = f.subs({x: 4, y: 1})  # Note: y midpoint is (0+4)/2 = 2\n",
    "\n",
    "# Evaluate the function at the center point for Simpson's rule\n",
    "f_center = f.subs({x: 2, y: 1})  # Note: Center point is (0+4)/2, (-2+2)/2\n",
    "\n",
    "# Calculate the Simpson's sum using the correct formula\n",
    "simpsons_sum = (delta_x_simpson * delta_y_simpson / 9) * (\n",
    "    f_corner_s1 + f_corner_s2 + f_corner_s3 + f_corner_s4 +\n",
    "    4 * (f_edge_s1 + f_edge_s2 + f_edge_s3 + f_edge_s4) +\n",
    "    16 * f_center\n",
    ")\n",
    "\n",
    "simpsons_sum.evalf()"
   ]
  },
  {
   "cell_type": "markdown",
   "id": "77fa8210",
   "metadata": {},
   "source": [
    "The value of the double integral using a single application of Simpson's \n",
    "1\n",
    "3\n",
    "3\n",
    "1\n",
    "​\n",
    "  rule is approximately \n",
    "10.67\n",
    "10.67. "
   ]
  },
  {
   "cell_type": "code",
   "execution_count": null,
   "id": "75ddff28",
   "metadata": {},
   "outputs": [],
   "source": []
  }
 ],
 "metadata": {
  "kernelspec": {
   "display_name": "Python 3 (ipykernel)",
   "language": "python",
   "name": "python3"
  },
  "language_info": {
   "codemirror_mode": {
    "name": "ipython",
    "version": 3
   },
   "file_extension": ".py",
   "mimetype": "text/x-python",
   "name": "python",
   "nbconvert_exporter": "python",
   "pygments_lexer": "ipython3",
   "version": "3.11.5"
  }
 },
 "nbformat": 4,
 "nbformat_minor": 5
}
